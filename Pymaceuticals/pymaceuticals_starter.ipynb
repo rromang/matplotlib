{
 "cells": [
  {
   "cell_type": "markdown",
   "metadata": {},
   "source": [
    "## Observations and Insights "
   ]
  },
  {
   "cell_type": "markdown",
   "metadata": {},
   "source": []
  },
  {
   "cell_type": "code",
   "execution_count": 30,
   "metadata": {},
   "outputs": [
    {
     "output_type": "execute_result",
     "data": {
      "text/plain": [
       "     Mouse ID Drug Regimen   Sex  Age_months  Weight (g)  Timepoint  \\\n",
       "0        k403     Ramicane  Male          21          16          0   \n",
       "1        k403     Ramicane  Male          21          16          5   \n",
       "2        k403     Ramicane  Male          21          16         10   \n",
       "3        k403     Ramicane  Male          21          16         15   \n",
       "4        k403     Ramicane  Male          21          16         20   \n",
       "...       ...          ...   ...         ...         ...        ...   \n",
       "1888     z969     Naftisol  Male           9          30         25   \n",
       "1889     z969     Naftisol  Male           9          30         30   \n",
       "1890     z969     Naftisol  Male           9          30         35   \n",
       "1891     z969     Naftisol  Male           9          30         40   \n",
       "1892     z969     Naftisol  Male           9          30         45   \n",
       "\n",
       "      Tumor Volume (mm3)  Metastatic Sites  \n",
       "0              45.000000                 0  \n",
       "1              38.825898                 0  \n",
       "2              35.014271                 1  \n",
       "3              34.223992                 1  \n",
       "4              32.997729                 1  \n",
       "...                  ...               ...  \n",
       "1888           63.145652                 2  \n",
       "1889           65.841013                 3  \n",
       "1890           69.176246                 4  \n",
       "1891           70.314904                 4  \n",
       "1892           73.867845                 4  \n",
       "\n",
       "[1893 rows x 8 columns]"
      ],
      "text/html": "<div>\n<style scoped>\n    .dataframe tbody tr th:only-of-type {\n        vertical-align: middle;\n    }\n\n    .dataframe tbody tr th {\n        vertical-align: top;\n    }\n\n    .dataframe thead th {\n        text-align: right;\n    }\n</style>\n<table border=\"1\" class=\"dataframe\">\n  <thead>\n    <tr style=\"text-align: right;\">\n      <th></th>\n      <th>Mouse ID</th>\n      <th>Drug Regimen</th>\n      <th>Sex</th>\n      <th>Age_months</th>\n      <th>Weight (g)</th>\n      <th>Timepoint</th>\n      <th>Tumor Volume (mm3)</th>\n      <th>Metastatic Sites</th>\n    </tr>\n  </thead>\n  <tbody>\n    <tr>\n      <th>0</th>\n      <td>k403</td>\n      <td>Ramicane</td>\n      <td>Male</td>\n      <td>21</td>\n      <td>16</td>\n      <td>0</td>\n      <td>45.000000</td>\n      <td>0</td>\n    </tr>\n    <tr>\n      <th>1</th>\n      <td>k403</td>\n      <td>Ramicane</td>\n      <td>Male</td>\n      <td>21</td>\n      <td>16</td>\n      <td>5</td>\n      <td>38.825898</td>\n      <td>0</td>\n    </tr>\n    <tr>\n      <th>2</th>\n      <td>k403</td>\n      <td>Ramicane</td>\n      <td>Male</td>\n      <td>21</td>\n      <td>16</td>\n      <td>10</td>\n      <td>35.014271</td>\n      <td>1</td>\n    </tr>\n    <tr>\n      <th>3</th>\n      <td>k403</td>\n      <td>Ramicane</td>\n      <td>Male</td>\n      <td>21</td>\n      <td>16</td>\n      <td>15</td>\n      <td>34.223992</td>\n      <td>1</td>\n    </tr>\n    <tr>\n      <th>4</th>\n      <td>k403</td>\n      <td>Ramicane</td>\n      <td>Male</td>\n      <td>21</td>\n      <td>16</td>\n      <td>20</td>\n      <td>32.997729</td>\n      <td>1</td>\n    </tr>\n    <tr>\n      <th>...</th>\n      <td>...</td>\n      <td>...</td>\n      <td>...</td>\n      <td>...</td>\n      <td>...</td>\n      <td>...</td>\n      <td>...</td>\n      <td>...</td>\n    </tr>\n    <tr>\n      <th>1888</th>\n      <td>z969</td>\n      <td>Naftisol</td>\n      <td>Male</td>\n      <td>9</td>\n      <td>30</td>\n      <td>25</td>\n      <td>63.145652</td>\n      <td>2</td>\n    </tr>\n    <tr>\n      <th>1889</th>\n      <td>z969</td>\n      <td>Naftisol</td>\n      <td>Male</td>\n      <td>9</td>\n      <td>30</td>\n      <td>30</td>\n      <td>65.841013</td>\n      <td>3</td>\n    </tr>\n    <tr>\n      <th>1890</th>\n      <td>z969</td>\n      <td>Naftisol</td>\n      <td>Male</td>\n      <td>9</td>\n      <td>30</td>\n      <td>35</td>\n      <td>69.176246</td>\n      <td>4</td>\n    </tr>\n    <tr>\n      <th>1891</th>\n      <td>z969</td>\n      <td>Naftisol</td>\n      <td>Male</td>\n      <td>9</td>\n      <td>30</td>\n      <td>40</td>\n      <td>70.314904</td>\n      <td>4</td>\n    </tr>\n    <tr>\n      <th>1892</th>\n      <td>z969</td>\n      <td>Naftisol</td>\n      <td>Male</td>\n      <td>9</td>\n      <td>30</td>\n      <td>45</td>\n      <td>73.867845</td>\n      <td>4</td>\n    </tr>\n  </tbody>\n</table>\n<p>1893 rows × 8 columns</p>\n</div>"
     },
     "metadata": {},
     "execution_count": 30
    }
   ],
   "source": [
    "# Dependencies and Setup\n",
    "import matplotlib.pyplot as plt\n",
    "import pandas as pd\n",
    "import scipy.stats as st\n",
    "\n",
    "# Study data files\n",
    "mouse_metadata_path = \"data/Mouse_metadata.csv\"\n",
    "study_results_path = \"data/Study_results.csv\"\n",
    "\n",
    "# Read the mouse data and the study results\n",
    "mouse_metadata = pd.read_csv(mouse_metadata_path)\n",
    "study_results = pd.read_csv(study_results_path)\n",
    "\n",
    "# Combine the data into a single dataset\n",
    "all_data = pd.merge(mouse_metadata,study_results, how='outer')\n",
    "# Display the data table for preview\n",
    "all_data"
   ]
  },
  {
   "cell_type": "code",
   "execution_count": 31,
   "metadata": {},
   "outputs": [
    {
     "output_type": "execute_result",
     "data": {
      "text/plain": [
       "1893"
      ]
     },
     "metadata": {},
     "execution_count": 31
    }
   ],
   "source": [
    "# Checking the number of mice.\n",
    "num_mice = all_data['Mouse ID'].count()\n",
    "num_mice"
   ]
  },
  {
   "cell_type": "code",
   "execution_count": 32,
   "metadata": {},
   "outputs": [
    {
     "output_type": "execute_result",
     "data": {
      "text/plain": [
       "909    g989\n",
       "911    g989\n",
       "913    g989\n",
       "915    g989\n",
       "917    g989\n",
       "Name: Mouse ID, dtype: object"
      ]
     },
     "metadata": {},
     "execution_count": 32
    }
   ],
   "source": [
    "# Getting the duplicate mice by ID number that shows up for Mouse ID and Timepoint. \n",
    "all_data_copy = all_data.copy()\n",
    "duplicates = all_data_copy[all_data_copy.duplicated(['Mouse ID', 'Timepoint'])]\n",
    "duplicates['Mouse ID']"
   ]
  },
  {
   "cell_type": "code",
   "execution_count": 33,
   "metadata": {},
   "outputs": [
    {
     "output_type": "execute_result",
     "data": {
      "text/plain": [
       "    Mouse ID Drug Regimen     Sex  Age_months  Weight (g)  Timepoint  \\\n",
       "909     g989     Propriva  Female          21          26          0   \n",
       "911     g989     Propriva  Female          21          26          5   \n",
       "913     g989     Propriva  Female          21          26         10   \n",
       "915     g989     Propriva  Female          21          26         15   \n",
       "917     g989     Propriva  Female          21          26         20   \n",
       "\n",
       "     Tumor Volume (mm3)  Metastatic Sites  \n",
       "909           45.000000                 0  \n",
       "911           47.570392                 0  \n",
       "913           49.880528                 0  \n",
       "915           53.442020                 0  \n",
       "917           54.657650                 1  "
      ],
      "text/html": "<div>\n<style scoped>\n    .dataframe tbody tr th:only-of-type {\n        vertical-align: middle;\n    }\n\n    .dataframe tbody tr th {\n        vertical-align: top;\n    }\n\n    .dataframe thead th {\n        text-align: right;\n    }\n</style>\n<table border=\"1\" class=\"dataframe\">\n  <thead>\n    <tr style=\"text-align: right;\">\n      <th></th>\n      <th>Mouse ID</th>\n      <th>Drug Regimen</th>\n      <th>Sex</th>\n      <th>Age_months</th>\n      <th>Weight (g)</th>\n      <th>Timepoint</th>\n      <th>Tumor Volume (mm3)</th>\n      <th>Metastatic Sites</th>\n    </tr>\n  </thead>\n  <tbody>\n    <tr>\n      <th>909</th>\n      <td>g989</td>\n      <td>Propriva</td>\n      <td>Female</td>\n      <td>21</td>\n      <td>26</td>\n      <td>0</td>\n      <td>45.000000</td>\n      <td>0</td>\n    </tr>\n    <tr>\n      <th>911</th>\n      <td>g989</td>\n      <td>Propriva</td>\n      <td>Female</td>\n      <td>21</td>\n      <td>26</td>\n      <td>5</td>\n      <td>47.570392</td>\n      <td>0</td>\n    </tr>\n    <tr>\n      <th>913</th>\n      <td>g989</td>\n      <td>Propriva</td>\n      <td>Female</td>\n      <td>21</td>\n      <td>26</td>\n      <td>10</td>\n      <td>49.880528</td>\n      <td>0</td>\n    </tr>\n    <tr>\n      <th>915</th>\n      <td>g989</td>\n      <td>Propriva</td>\n      <td>Female</td>\n      <td>21</td>\n      <td>26</td>\n      <td>15</td>\n      <td>53.442020</td>\n      <td>0</td>\n    </tr>\n    <tr>\n      <th>917</th>\n      <td>g989</td>\n      <td>Propriva</td>\n      <td>Female</td>\n      <td>21</td>\n      <td>26</td>\n      <td>20</td>\n      <td>54.657650</td>\n      <td>1</td>\n    </tr>\n  </tbody>\n</table>\n</div>"
     },
     "metadata": {},
     "execution_count": 33
    }
   ],
   "source": [
    "# Optional: Get all the data for the duplicate mouse ID. \n",
    "duplicates\n"
   ]
  },
  {
   "cell_type": "code",
   "execution_count": 34,
   "metadata": {},
   "outputs": [
    {
     "output_type": "execute_result",
     "data": {
      "text/plain": [
       "     Mouse ID Drug Regimen   Sex  Age_months  Weight (g)  Timepoint  \\\n",
       "0        k403     Ramicane  Male          21          16          0   \n",
       "1        k403     Ramicane  Male          21          16          5   \n",
       "2        k403     Ramicane  Male          21          16         10   \n",
       "3        k403     Ramicane  Male          21          16         15   \n",
       "4        k403     Ramicane  Male          21          16         20   \n",
       "...       ...          ...   ...         ...         ...        ...   \n",
       "1888     z969     Naftisol  Male           9          30         25   \n",
       "1889     z969     Naftisol  Male           9          30         30   \n",
       "1890     z969     Naftisol  Male           9          30         35   \n",
       "1891     z969     Naftisol  Male           9          30         40   \n",
       "1892     z969     Naftisol  Male           9          30         45   \n",
       "\n",
       "      Tumor Volume (mm3)  Metastatic Sites  \n",
       "0              45.000000                 0  \n",
       "1              38.825898                 0  \n",
       "2              35.014271                 1  \n",
       "3              34.223992                 1  \n",
       "4              32.997729                 1  \n",
       "...                  ...               ...  \n",
       "1888           63.145652                 2  \n",
       "1889           65.841013                 3  \n",
       "1890           69.176246                 4  \n",
       "1891           70.314904                 4  \n",
       "1892           73.867845                 4  \n",
       "\n",
       "[1888 rows x 8 columns]"
      ],
      "text/html": "<div>\n<style scoped>\n    .dataframe tbody tr th:only-of-type {\n        vertical-align: middle;\n    }\n\n    .dataframe tbody tr th {\n        vertical-align: top;\n    }\n\n    .dataframe thead th {\n        text-align: right;\n    }\n</style>\n<table border=\"1\" class=\"dataframe\">\n  <thead>\n    <tr style=\"text-align: right;\">\n      <th></th>\n      <th>Mouse ID</th>\n      <th>Drug Regimen</th>\n      <th>Sex</th>\n      <th>Age_months</th>\n      <th>Weight (g)</th>\n      <th>Timepoint</th>\n      <th>Tumor Volume (mm3)</th>\n      <th>Metastatic Sites</th>\n    </tr>\n  </thead>\n  <tbody>\n    <tr>\n      <th>0</th>\n      <td>k403</td>\n      <td>Ramicane</td>\n      <td>Male</td>\n      <td>21</td>\n      <td>16</td>\n      <td>0</td>\n      <td>45.000000</td>\n      <td>0</td>\n    </tr>\n    <tr>\n      <th>1</th>\n      <td>k403</td>\n      <td>Ramicane</td>\n      <td>Male</td>\n      <td>21</td>\n      <td>16</td>\n      <td>5</td>\n      <td>38.825898</td>\n      <td>0</td>\n    </tr>\n    <tr>\n      <th>2</th>\n      <td>k403</td>\n      <td>Ramicane</td>\n      <td>Male</td>\n      <td>21</td>\n      <td>16</td>\n      <td>10</td>\n      <td>35.014271</td>\n      <td>1</td>\n    </tr>\n    <tr>\n      <th>3</th>\n      <td>k403</td>\n      <td>Ramicane</td>\n      <td>Male</td>\n      <td>21</td>\n      <td>16</td>\n      <td>15</td>\n      <td>34.223992</td>\n      <td>1</td>\n    </tr>\n    <tr>\n      <th>4</th>\n      <td>k403</td>\n      <td>Ramicane</td>\n      <td>Male</td>\n      <td>21</td>\n      <td>16</td>\n      <td>20</td>\n      <td>32.997729</td>\n      <td>1</td>\n    </tr>\n    <tr>\n      <th>...</th>\n      <td>...</td>\n      <td>...</td>\n      <td>...</td>\n      <td>...</td>\n      <td>...</td>\n      <td>...</td>\n      <td>...</td>\n      <td>...</td>\n    </tr>\n    <tr>\n      <th>1888</th>\n      <td>z969</td>\n      <td>Naftisol</td>\n      <td>Male</td>\n      <td>9</td>\n      <td>30</td>\n      <td>25</td>\n      <td>63.145652</td>\n      <td>2</td>\n    </tr>\n    <tr>\n      <th>1889</th>\n      <td>z969</td>\n      <td>Naftisol</td>\n      <td>Male</td>\n      <td>9</td>\n      <td>30</td>\n      <td>30</td>\n      <td>65.841013</td>\n      <td>3</td>\n    </tr>\n    <tr>\n      <th>1890</th>\n      <td>z969</td>\n      <td>Naftisol</td>\n      <td>Male</td>\n      <td>9</td>\n      <td>30</td>\n      <td>35</td>\n      <td>69.176246</td>\n      <td>4</td>\n    </tr>\n    <tr>\n      <th>1891</th>\n      <td>z969</td>\n      <td>Naftisol</td>\n      <td>Male</td>\n      <td>9</td>\n      <td>30</td>\n      <td>40</td>\n      <td>70.314904</td>\n      <td>4</td>\n    </tr>\n    <tr>\n      <th>1892</th>\n      <td>z969</td>\n      <td>Naftisol</td>\n      <td>Male</td>\n      <td>9</td>\n      <td>30</td>\n      <td>45</td>\n      <td>73.867845</td>\n      <td>4</td>\n    </tr>\n  </tbody>\n</table>\n<p>1888 rows × 8 columns</p>\n</div>"
     },
     "metadata": {},
     "execution_count": 34
    }
   ],
   "source": [
    "# Create a clean DataFrame by dropping the duplicate mouse by its ID.\n",
    "indexes = duplicates.index.to_list()\n",
    "clean_all_data = all_data_copy.drop(all_data_copy.index[[indexes]])\n",
    "clean_all_data\n"
   ]
  },
  {
   "cell_type": "code",
   "execution_count": 35,
   "metadata": {},
   "outputs": [
    {
     "output_type": "execute_result",
     "data": {
      "text/plain": [
       "1888"
      ]
     },
     "metadata": {},
     "execution_count": 35
    }
   ],
   "source": [
    "# Checking the number of mice in the clean DataFrame.\n",
    "clean_num_mice = clean_all_data['Mouse ID'].count()\n",
    "clean_num_mice"
   ]
  },
  {
   "cell_type": "markdown",
   "metadata": {},
   "source": [
    "## Summary Statistics"
   ]
  },
  {
   "cell_type": "code",
   "execution_count": 36,
   "metadata": {},
   "outputs": [
    {
     "output_type": "execute_result",
     "data": {
      "text/plain": [
       "              Age_months  Weight (g)  Timepoint  Tumor Volume (mm3)  \\\n",
       "Drug Regimen                                                          \n",
       "Capomulin          13.46       19.97      21.57               40.68   \n",
       "Ceftamin           13.25       27.40      19.75               52.59   \n",
       "Infubinol          16.23       27.20      18.17               52.88   \n",
       "Ketapril           15.66       27.86      19.71               55.24   \n",
       "Naftisol           12.00       27.17      19.62               54.33   \n",
       "Placebo            10.73       27.93      18.67               54.03   \n",
       "Propriva           10.57       27.08      17.08               52.39   \n",
       "Ramicane           10.68       19.68      21.43               40.22   \n",
       "Stelasyn           12.78       27.86      19.23               54.23   \n",
       "Zoniferol          12.60       27.69      19.37               53.24   \n",
       "\n",
       "              Metastatic Sites  \n",
       "Drug Regimen                    \n",
       "Capomulin                 0.71  \n",
       "Ceftamin                  1.18  \n",
       "Infubinol                 0.96  \n",
       "Ketapril                  1.30  \n",
       "Naftisol                  1.18  \n",
       "Placebo                   1.44  \n",
       "Propriva                  1.00  \n",
       "Ramicane                  0.55  \n",
       "Stelasyn                  0.87  \n",
       "Zoniferol                 1.23  "
      ],
      "text/html": "<div>\n<style scoped>\n    .dataframe tbody tr th:only-of-type {\n        vertical-align: middle;\n    }\n\n    .dataframe tbody tr th {\n        vertical-align: top;\n    }\n\n    .dataframe thead th {\n        text-align: right;\n    }\n</style>\n<table border=\"1\" class=\"dataframe\">\n  <thead>\n    <tr style=\"text-align: right;\">\n      <th></th>\n      <th>Age_months</th>\n      <th>Weight (g)</th>\n      <th>Timepoint</th>\n      <th>Tumor Volume (mm3)</th>\n      <th>Metastatic Sites</th>\n    </tr>\n    <tr>\n      <th>Drug Regimen</th>\n      <th></th>\n      <th></th>\n      <th></th>\n      <th></th>\n      <th></th>\n    </tr>\n  </thead>\n  <tbody>\n    <tr>\n      <th>Capomulin</th>\n      <td>13.46</td>\n      <td>19.97</td>\n      <td>21.57</td>\n      <td>40.68</td>\n      <td>0.71</td>\n    </tr>\n    <tr>\n      <th>Ceftamin</th>\n      <td>13.25</td>\n      <td>27.40</td>\n      <td>19.75</td>\n      <td>52.59</td>\n      <td>1.18</td>\n    </tr>\n    <tr>\n      <th>Infubinol</th>\n      <td>16.23</td>\n      <td>27.20</td>\n      <td>18.17</td>\n      <td>52.88</td>\n      <td>0.96</td>\n    </tr>\n    <tr>\n      <th>Ketapril</th>\n      <td>15.66</td>\n      <td>27.86</td>\n      <td>19.71</td>\n      <td>55.24</td>\n      <td>1.30</td>\n    </tr>\n    <tr>\n      <th>Naftisol</th>\n      <td>12.00</td>\n      <td>27.17</td>\n      <td>19.62</td>\n      <td>54.33</td>\n      <td>1.18</td>\n    </tr>\n    <tr>\n      <th>Placebo</th>\n      <td>10.73</td>\n      <td>27.93</td>\n      <td>18.67</td>\n      <td>54.03</td>\n      <td>1.44</td>\n    </tr>\n    <tr>\n      <th>Propriva</th>\n      <td>10.57</td>\n      <td>27.08</td>\n      <td>17.08</td>\n      <td>52.39</td>\n      <td>1.00</td>\n    </tr>\n    <tr>\n      <th>Ramicane</th>\n      <td>10.68</td>\n      <td>19.68</td>\n      <td>21.43</td>\n      <td>40.22</td>\n      <td>0.55</td>\n    </tr>\n    <tr>\n      <th>Stelasyn</th>\n      <td>12.78</td>\n      <td>27.86</td>\n      <td>19.23</td>\n      <td>54.23</td>\n      <td>0.87</td>\n    </tr>\n    <tr>\n      <th>Zoniferol</th>\n      <td>12.60</td>\n      <td>27.69</td>\n      <td>19.37</td>\n      <td>53.24</td>\n      <td>1.23</td>\n    </tr>\n  </tbody>\n</table>\n</div>"
     },
     "metadata": {},
     "execution_count": 36
    }
   ],
   "source": [
    "# Generate a summary statistics table of mean, median, variance, standard deviation, and SEM of the tumor volume for each regimen\n",
    "stats = round(clean_all_data.describe(),2)\n",
    "stats\n",
    "# Use groupby and summary statistical methods to calculate the following properties of each drug regimen:\n",
    "\n",
    "# mean, median, variance, standard deviation, and SEM of the tumor volume. \n",
    "drug_trx_mean = round(clean_all_data.groupby('Drug Regimen').mean(),2)\n",
    "drug_trx_mean\n",
    "\n"
   ]
  },
  {
   "cell_type": "code",
   "execution_count": 37,
   "metadata": {},
   "outputs": [
    {
     "output_type": "execute_result",
     "data": {
      "text/plain": [
       "              Age_months  Weight (g)  Timepoint  Tumor Volume (mm3)  \\\n",
       "Drug Regimen                                                          \n",
       "Capomulin           16.5        20.5       20.0               41.56   \n",
       "Ceftamin            12.0        28.0       20.0               51.78   \n",
       "Infubinol           20.0        27.0       15.0               51.82   \n",
       "Ketapril            18.0        28.0       20.0               53.70   \n",
       "Naftisol             9.0        27.0       20.0               52.51   \n",
       "Placebo             10.0        28.0       15.0               52.29   \n",
       "Propriva             8.0        26.0       15.0               50.91   \n",
       "Ramicane             9.0        19.0       20.0               40.67   \n",
       "Stelasyn            14.0        28.0       20.0               52.43   \n",
       "Zoniferol           12.5        28.0       15.0               51.82   \n",
       "\n",
       "              Metastatic Sites  \n",
       "Drug Regimen                    \n",
       "Capomulin                  0.0  \n",
       "Ceftamin                   1.0  \n",
       "Infubinol                  1.0  \n",
       "Ketapril                   1.0  \n",
       "Naftisol                   1.0  \n",
       "Placebo                    1.0  \n",
       "Propriva                   1.0  \n",
       "Ramicane                   0.0  \n",
       "Stelasyn                   1.0  \n",
       "Zoniferol                  1.0  "
      ],
      "text/html": "<div>\n<style scoped>\n    .dataframe tbody tr th:only-of-type {\n        vertical-align: middle;\n    }\n\n    .dataframe tbody tr th {\n        vertical-align: top;\n    }\n\n    .dataframe thead th {\n        text-align: right;\n    }\n</style>\n<table border=\"1\" class=\"dataframe\">\n  <thead>\n    <tr style=\"text-align: right;\">\n      <th></th>\n      <th>Age_months</th>\n      <th>Weight (g)</th>\n      <th>Timepoint</th>\n      <th>Tumor Volume (mm3)</th>\n      <th>Metastatic Sites</th>\n    </tr>\n    <tr>\n      <th>Drug Regimen</th>\n      <th></th>\n      <th></th>\n      <th></th>\n      <th></th>\n      <th></th>\n    </tr>\n  </thead>\n  <tbody>\n    <tr>\n      <th>Capomulin</th>\n      <td>16.5</td>\n      <td>20.5</td>\n      <td>20.0</td>\n      <td>41.56</td>\n      <td>0.0</td>\n    </tr>\n    <tr>\n      <th>Ceftamin</th>\n      <td>12.0</td>\n      <td>28.0</td>\n      <td>20.0</td>\n      <td>51.78</td>\n      <td>1.0</td>\n    </tr>\n    <tr>\n      <th>Infubinol</th>\n      <td>20.0</td>\n      <td>27.0</td>\n      <td>15.0</td>\n      <td>51.82</td>\n      <td>1.0</td>\n    </tr>\n    <tr>\n      <th>Ketapril</th>\n      <td>18.0</td>\n      <td>28.0</td>\n      <td>20.0</td>\n      <td>53.70</td>\n      <td>1.0</td>\n    </tr>\n    <tr>\n      <th>Naftisol</th>\n      <td>9.0</td>\n      <td>27.0</td>\n      <td>20.0</td>\n      <td>52.51</td>\n      <td>1.0</td>\n    </tr>\n    <tr>\n      <th>Placebo</th>\n      <td>10.0</td>\n      <td>28.0</td>\n      <td>15.0</td>\n      <td>52.29</td>\n      <td>1.0</td>\n    </tr>\n    <tr>\n      <th>Propriva</th>\n      <td>8.0</td>\n      <td>26.0</td>\n      <td>15.0</td>\n      <td>50.91</td>\n      <td>1.0</td>\n    </tr>\n    <tr>\n      <th>Ramicane</th>\n      <td>9.0</td>\n      <td>19.0</td>\n      <td>20.0</td>\n      <td>40.67</td>\n      <td>0.0</td>\n    </tr>\n    <tr>\n      <th>Stelasyn</th>\n      <td>14.0</td>\n      <td>28.0</td>\n      <td>20.0</td>\n      <td>52.43</td>\n      <td>1.0</td>\n    </tr>\n    <tr>\n      <th>Zoniferol</th>\n      <td>12.5</td>\n      <td>28.0</td>\n      <td>15.0</td>\n      <td>51.82</td>\n      <td>1.0</td>\n    </tr>\n  </tbody>\n</table>\n</div>"
     },
     "metadata": {},
     "execution_count": 37
    }
   ],
   "source": [
    "drug_trx_median = round(clean_all_data.groupby('Drug Regimen').median(),2)\n",
    "drug_trx_median"
   ]
  },
  {
   "cell_type": "code",
   "execution_count": 38,
   "metadata": {},
   "outputs": [
    {
     "output_type": "execute_result",
     "data": {
      "text/plain": [
       "              Age_months  Weight (g)  Timepoint  Tumor Volume (mm3)  \\\n",
       "Drug Regimen                                                          \n",
       "Capomulin           7.72        2.73      14.38                4.99   \n",
       "Ceftamin            8.07        1.58      14.28                6.27   \n",
       "Infubinol           7.51        2.18      13.47                6.57   \n",
       "Ketapril            6.02        1.84      14.03                8.28   \n",
       "Naftisol            6.72        1.50      14.18                8.13   \n",
       "Placebo             6.35        1.84      13.89                7.82   \n",
       "Propriva            7.19        1.69      13.57                6.57   \n",
       "Ramicane            5.95        3.24      14.28                4.85   \n",
       "Stelasyn            7.94        1.64      13.84                7.71   \n",
       "Zoniferol           5.79        1.42      14.38                6.97   \n",
       "\n",
       "              Metastatic Sites  \n",
       "Drug Regimen                    \n",
       "Capomulin                 0.85  \n",
       "Ceftamin                  1.18  \n",
       "Infubinol                 1.03  \n",
       "Ketapril                  1.39  \n",
       "Naftisol                  1.22  \n",
       "Placebo                   1.34  \n",
       "Propriva                  1.09  \n",
       "Ramicane                  0.69  \n",
       "Stelasyn                  0.97  \n",
       "Zoniferol                 1.25  "
      ],
      "text/html": "<div>\n<style scoped>\n    .dataframe tbody tr th:only-of-type {\n        vertical-align: middle;\n    }\n\n    .dataframe tbody tr th {\n        vertical-align: top;\n    }\n\n    .dataframe thead th {\n        text-align: right;\n    }\n</style>\n<table border=\"1\" class=\"dataframe\">\n  <thead>\n    <tr style=\"text-align: right;\">\n      <th></th>\n      <th>Age_months</th>\n      <th>Weight (g)</th>\n      <th>Timepoint</th>\n      <th>Tumor Volume (mm3)</th>\n      <th>Metastatic Sites</th>\n    </tr>\n    <tr>\n      <th>Drug Regimen</th>\n      <th></th>\n      <th></th>\n      <th></th>\n      <th></th>\n      <th></th>\n    </tr>\n  </thead>\n  <tbody>\n    <tr>\n      <th>Capomulin</th>\n      <td>7.72</td>\n      <td>2.73</td>\n      <td>14.38</td>\n      <td>4.99</td>\n      <td>0.85</td>\n    </tr>\n    <tr>\n      <th>Ceftamin</th>\n      <td>8.07</td>\n      <td>1.58</td>\n      <td>14.28</td>\n      <td>6.27</td>\n      <td>1.18</td>\n    </tr>\n    <tr>\n      <th>Infubinol</th>\n      <td>7.51</td>\n      <td>2.18</td>\n      <td>13.47</td>\n      <td>6.57</td>\n      <td>1.03</td>\n    </tr>\n    <tr>\n      <th>Ketapril</th>\n      <td>6.02</td>\n      <td>1.84</td>\n      <td>14.03</td>\n      <td>8.28</td>\n      <td>1.39</td>\n    </tr>\n    <tr>\n      <th>Naftisol</th>\n      <td>6.72</td>\n      <td>1.50</td>\n      <td>14.18</td>\n      <td>8.13</td>\n      <td>1.22</td>\n    </tr>\n    <tr>\n      <th>Placebo</th>\n      <td>6.35</td>\n      <td>1.84</td>\n      <td>13.89</td>\n      <td>7.82</td>\n      <td>1.34</td>\n    </tr>\n    <tr>\n      <th>Propriva</th>\n      <td>7.19</td>\n      <td>1.69</td>\n      <td>13.57</td>\n      <td>6.57</td>\n      <td>1.09</td>\n    </tr>\n    <tr>\n      <th>Ramicane</th>\n      <td>5.95</td>\n      <td>3.24</td>\n      <td>14.28</td>\n      <td>4.85</td>\n      <td>0.69</td>\n    </tr>\n    <tr>\n      <th>Stelasyn</th>\n      <td>7.94</td>\n      <td>1.64</td>\n      <td>13.84</td>\n      <td>7.71</td>\n      <td>0.97</td>\n    </tr>\n    <tr>\n      <th>Zoniferol</th>\n      <td>5.79</td>\n      <td>1.42</td>\n      <td>14.38</td>\n      <td>6.97</td>\n      <td>1.25</td>\n    </tr>\n  </tbody>\n</table>\n</div>"
     },
     "metadata": {},
     "execution_count": 38
    }
   ],
   "source": [
    "drug_trx_stdev = round(clean_all_data.groupby('Drug Regimen').std(),2)\n",
    "drug_trx_stdev"
   ]
  },
  {
   "cell_type": "code",
   "execution_count": 39,
   "metadata": {},
   "outputs": [
    {
     "output_type": "execute_result",
     "data": {
      "text/plain": [
       "              Age_months  Weight (g)  Timepoint  Tumor Volume (mm3)  \\\n",
       "Drug Regimen                                                          \n",
       "Capomulin           0.51        0.18       0.95                0.33   \n",
       "Ceftamin            0.60        0.12       1.07                0.47   \n",
       "Infubinol           0.56        0.16       1.01                0.49   \n",
       "Ketapril            0.44        0.13       1.02                0.60   \n",
       "Naftisol            0.49        0.11       1.04                0.60   \n",
       "Placebo             0.47        0.14       1.03                0.58   \n",
       "Propriva            0.58        0.14       1.09                0.53   \n",
       "Ramicane            0.39        0.21       0.95                0.32   \n",
       "Stelasyn            0.59        0.12       1.03                0.57   \n",
       "Zoniferol           0.43        0.11       1.07                0.52   \n",
       "\n",
       "              Metastatic Sites  \n",
       "Drug Regimen                    \n",
       "Capomulin                 0.06  \n",
       "Ceftamin                  0.09  \n",
       "Infubinol                 0.08  \n",
       "Ketapril                  0.10  \n",
       "Naftisol                  0.09  \n",
       "Placebo                   0.10  \n",
       "Propriva                  0.09  \n",
       "Ramicane                  0.05  \n",
       "Stelasyn                  0.07  \n",
       "Zoniferol                 0.09  "
      ],
      "text/html": "<div>\n<style scoped>\n    .dataframe tbody tr th:only-of-type {\n        vertical-align: middle;\n    }\n\n    .dataframe tbody tr th {\n        vertical-align: top;\n    }\n\n    .dataframe thead th {\n        text-align: right;\n    }\n</style>\n<table border=\"1\" class=\"dataframe\">\n  <thead>\n    <tr style=\"text-align: right;\">\n      <th></th>\n      <th>Age_months</th>\n      <th>Weight (g)</th>\n      <th>Timepoint</th>\n      <th>Tumor Volume (mm3)</th>\n      <th>Metastatic Sites</th>\n    </tr>\n    <tr>\n      <th>Drug Regimen</th>\n      <th></th>\n      <th></th>\n      <th></th>\n      <th></th>\n      <th></th>\n    </tr>\n  </thead>\n  <tbody>\n    <tr>\n      <th>Capomulin</th>\n      <td>0.51</td>\n      <td>0.18</td>\n      <td>0.95</td>\n      <td>0.33</td>\n      <td>0.06</td>\n    </tr>\n    <tr>\n      <th>Ceftamin</th>\n      <td>0.60</td>\n      <td>0.12</td>\n      <td>1.07</td>\n      <td>0.47</td>\n      <td>0.09</td>\n    </tr>\n    <tr>\n      <th>Infubinol</th>\n      <td>0.56</td>\n      <td>0.16</td>\n      <td>1.01</td>\n      <td>0.49</td>\n      <td>0.08</td>\n    </tr>\n    <tr>\n      <th>Ketapril</th>\n      <td>0.44</td>\n      <td>0.13</td>\n      <td>1.02</td>\n      <td>0.60</td>\n      <td>0.10</td>\n    </tr>\n    <tr>\n      <th>Naftisol</th>\n      <td>0.49</td>\n      <td>0.11</td>\n      <td>1.04</td>\n      <td>0.60</td>\n      <td>0.09</td>\n    </tr>\n    <tr>\n      <th>Placebo</th>\n      <td>0.47</td>\n      <td>0.14</td>\n      <td>1.03</td>\n      <td>0.58</td>\n      <td>0.10</td>\n    </tr>\n    <tr>\n      <th>Propriva</th>\n      <td>0.58</td>\n      <td>0.14</td>\n      <td>1.09</td>\n      <td>0.53</td>\n      <td>0.09</td>\n    </tr>\n    <tr>\n      <th>Ramicane</th>\n      <td>0.39</td>\n      <td>0.21</td>\n      <td>0.95</td>\n      <td>0.32</td>\n      <td>0.05</td>\n    </tr>\n    <tr>\n      <th>Stelasyn</th>\n      <td>0.59</td>\n      <td>0.12</td>\n      <td>1.03</td>\n      <td>0.57</td>\n      <td>0.07</td>\n    </tr>\n    <tr>\n      <th>Zoniferol</th>\n      <td>0.43</td>\n      <td>0.11</td>\n      <td>1.07</td>\n      <td>0.52</td>\n      <td>0.09</td>\n    </tr>\n  </tbody>\n</table>\n</div>"
     },
     "metadata": {},
     "execution_count": 39
    }
   ],
   "source": [
    "drug_trx_sterr = round(clean_all_data.groupby('Drug Regimen').sem(),2)\n",
    "drug_trx_sterr"
   ]
  },
  {
   "cell_type": "code",
   "execution_count": 69,
   "metadata": {},
   "outputs": [
    {
     "output_type": "execute_result",
     "data": {
      "text/plain": [
       "              Mean Age in Months  Mean Weight (g)  Mean Timepoint  \\\n",
       "Drug Regimen                                                        \n",
       "Capomulin                  13.46            19.97           21.57   \n",
       "Ceftamin                   13.25            27.40           19.75   \n",
       "Infubinol                  16.23            27.20           18.17   \n",
       "Ketapril                   15.66            27.86           19.71   \n",
       "Naftisol                   12.00            27.17           19.62   \n",
       "Placebo                    10.73            27.93           18.67   \n",
       "Propriva                   10.57            27.08           17.08   \n",
       "Ramicane                   10.68            19.68           21.43   \n",
       "Stelasyn                   12.78            27.86           19.23   \n",
       "Zoniferol                  12.60            27.69           19.37   \n",
       "\n",
       "              Mean Tumor Volume (mm3)  Mean Metastatic Sites  \\\n",
       "Drug Regimen                                                   \n",
       "Capomulin                       40.68                   0.71   \n",
       "Ceftamin                        52.59                   1.18   \n",
       "Infubinol                       52.88                   0.96   \n",
       "Ketapril                        55.24                   1.30   \n",
       "Naftisol                        54.33                   1.18   \n",
       "Placebo                         54.03                   1.44   \n",
       "Propriva                        52.39                   1.00   \n",
       "Ramicane                        40.22                   0.55   \n",
       "Stelasyn                        54.23                   0.87   \n",
       "Zoniferol                       53.24                   1.23   \n",
       "\n",
       "              Median Age in Months  Median Weight (g)  Median Timepoint  \\\n",
       "Drug Regimen                                                              \n",
       "Capomulin                     16.5               20.5              20.0   \n",
       "Ceftamin                      12.0               28.0              20.0   \n",
       "Infubinol                     20.0               27.0              15.0   \n",
       "Ketapril                      18.0               28.0              20.0   \n",
       "Naftisol                       9.0               27.0              20.0   \n",
       "Placebo                       10.0               28.0              15.0   \n",
       "Propriva                       8.0               26.0              15.0   \n",
       "Ramicane                       9.0               19.0              20.0   \n",
       "Stelasyn                      14.0               28.0              20.0   \n",
       "Zoniferol                     12.5               28.0              15.0   \n",
       "\n",
       "              Median Tumor Volume (mm3)  Median Metastatic Sites  \\\n",
       "Drug Regimen                                                       \n",
       "Capomulin                         41.56                      0.0   \n",
       "Ceftamin                          51.78                      1.0   \n",
       "Infubinol                         51.82                      1.0   \n",
       "Ketapril                          53.70                      1.0   \n",
       "Naftisol                          52.51                      1.0   \n",
       "Placebo                           52.29                      1.0   \n",
       "Propriva                          50.91                      1.0   \n",
       "Ramicane                          40.67                      0.0   \n",
       "Stelasyn                          52.43                      1.0   \n",
       "Zoniferol                         51.82                      1.0   \n",
       "\n",
       "              StDev Age in Months  StDev Weight (g)  StDev Timepoint  \\\n",
       "Drug Regimen                                                           \n",
       "Capomulin                    7.72              2.73            14.38   \n",
       "Ceftamin                     8.07              1.58            14.28   \n",
       "Infubinol                    7.51              2.18            13.47   \n",
       "Ketapril                     6.02              1.84            14.03   \n",
       "Naftisol                     6.72              1.50            14.18   \n",
       "Placebo                      6.35              1.84            13.89   \n",
       "Propriva                     7.19              1.69            13.57   \n",
       "Ramicane                     5.95              3.24            14.28   \n",
       "Stelasyn                     7.94              1.64            13.84   \n",
       "Zoniferol                    5.79              1.42            14.38   \n",
       "\n",
       "              StDev Tumor Volume (mm3)  StDev Metastatic Sites  \\\n",
       "Drug Regimen                                                     \n",
       "Capomulin                         4.99                    0.85   \n",
       "Ceftamin                          6.27                    1.18   \n",
       "Infubinol                         6.57                    1.03   \n",
       "Ketapril                          8.28                    1.39   \n",
       "Naftisol                          8.13                    1.22   \n",
       "Placebo                           7.82                    1.34   \n",
       "Propriva                          6.57                    1.09   \n",
       "Ramicane                          4.85                    0.69   \n",
       "Stelasyn                          7.71                    0.97   \n",
       "Zoniferol                         6.97                    1.25   \n",
       "\n",
       "              StErr Age in Months  StErr Weight (g)  StErr Timepoint  \\\n",
       "Drug Regimen                                                           \n",
       "Capomulin                    0.51              0.18             0.95   \n",
       "Ceftamin                     0.60              0.12             1.07   \n",
       "Infubinol                    0.56              0.16             1.01   \n",
       "Ketapril                     0.44              0.13             1.02   \n",
       "Naftisol                     0.49              0.11             1.04   \n",
       "Placebo                      0.47              0.14             1.03   \n",
       "Propriva                     0.58              0.14             1.09   \n",
       "Ramicane                     0.39              0.21             0.95   \n",
       "Stelasyn                     0.59              0.12             1.03   \n",
       "Zoniferol                    0.43              0.11             1.07   \n",
       "\n",
       "              StErr Tumor Volume (mm3)  StErr Metastatic Sites  \n",
       "Drug Regimen                                                    \n",
       "Capomulin                         0.33                    0.06  \n",
       "Ceftamin                          0.47                    0.09  \n",
       "Infubinol                         0.49                    0.08  \n",
       "Ketapril                          0.60                    0.10  \n",
       "Naftisol                          0.60                    0.09  \n",
       "Placebo                           0.58                    0.10  \n",
       "Propriva                          0.53                    0.09  \n",
       "Ramicane                          0.32                    0.05  \n",
       "Stelasyn                          0.57                    0.07  \n",
       "Zoniferol                         0.52                    0.09  "
      ],
      "text/html": "<div>\n<style scoped>\n    .dataframe tbody tr th:only-of-type {\n        vertical-align: middle;\n    }\n\n    .dataframe tbody tr th {\n        vertical-align: top;\n    }\n\n    .dataframe thead th {\n        text-align: right;\n    }\n</style>\n<table border=\"1\" class=\"dataframe\">\n  <thead>\n    <tr style=\"text-align: right;\">\n      <th></th>\n      <th>Mean Age in Months</th>\n      <th>Mean Weight (g)</th>\n      <th>Mean Timepoint</th>\n      <th>Mean Tumor Volume (mm3)</th>\n      <th>Mean Metastatic Sites</th>\n      <th>Median Age in Months</th>\n      <th>Median Weight (g)</th>\n      <th>Median Timepoint</th>\n      <th>Median Tumor Volume (mm3)</th>\n      <th>Median Metastatic Sites</th>\n      <th>StDev Age in Months</th>\n      <th>StDev Weight (g)</th>\n      <th>StDev Timepoint</th>\n      <th>StDev Tumor Volume (mm3)</th>\n      <th>StDev Metastatic Sites</th>\n      <th>StErr Age in Months</th>\n      <th>StErr Weight (g)</th>\n      <th>StErr Timepoint</th>\n      <th>StErr Tumor Volume (mm3)</th>\n      <th>StErr Metastatic Sites</th>\n    </tr>\n    <tr>\n      <th>Drug Regimen</th>\n      <th></th>\n      <th></th>\n      <th></th>\n      <th></th>\n      <th></th>\n      <th></th>\n      <th></th>\n      <th></th>\n      <th></th>\n      <th></th>\n      <th></th>\n      <th></th>\n      <th></th>\n      <th></th>\n      <th></th>\n      <th></th>\n      <th></th>\n      <th></th>\n      <th></th>\n      <th></th>\n    </tr>\n  </thead>\n  <tbody>\n    <tr>\n      <th>Capomulin</th>\n      <td>13.46</td>\n      <td>19.97</td>\n      <td>21.57</td>\n      <td>40.68</td>\n      <td>0.71</td>\n      <td>16.5</td>\n      <td>20.5</td>\n      <td>20.0</td>\n      <td>41.56</td>\n      <td>0.0</td>\n      <td>7.72</td>\n      <td>2.73</td>\n      <td>14.38</td>\n      <td>4.99</td>\n      <td>0.85</td>\n      <td>0.51</td>\n      <td>0.18</td>\n      <td>0.95</td>\n      <td>0.33</td>\n      <td>0.06</td>\n    </tr>\n    <tr>\n      <th>Ceftamin</th>\n      <td>13.25</td>\n      <td>27.40</td>\n      <td>19.75</td>\n      <td>52.59</td>\n      <td>1.18</td>\n      <td>12.0</td>\n      <td>28.0</td>\n      <td>20.0</td>\n      <td>51.78</td>\n      <td>1.0</td>\n      <td>8.07</td>\n      <td>1.58</td>\n      <td>14.28</td>\n      <td>6.27</td>\n      <td>1.18</td>\n      <td>0.60</td>\n      <td>0.12</td>\n      <td>1.07</td>\n      <td>0.47</td>\n      <td>0.09</td>\n    </tr>\n    <tr>\n      <th>Infubinol</th>\n      <td>16.23</td>\n      <td>27.20</td>\n      <td>18.17</td>\n      <td>52.88</td>\n      <td>0.96</td>\n      <td>20.0</td>\n      <td>27.0</td>\n      <td>15.0</td>\n      <td>51.82</td>\n      <td>1.0</td>\n      <td>7.51</td>\n      <td>2.18</td>\n      <td>13.47</td>\n      <td>6.57</td>\n      <td>1.03</td>\n      <td>0.56</td>\n      <td>0.16</td>\n      <td>1.01</td>\n      <td>0.49</td>\n      <td>0.08</td>\n    </tr>\n    <tr>\n      <th>Ketapril</th>\n      <td>15.66</td>\n      <td>27.86</td>\n      <td>19.71</td>\n      <td>55.24</td>\n      <td>1.30</td>\n      <td>18.0</td>\n      <td>28.0</td>\n      <td>20.0</td>\n      <td>53.70</td>\n      <td>1.0</td>\n      <td>6.02</td>\n      <td>1.84</td>\n      <td>14.03</td>\n      <td>8.28</td>\n      <td>1.39</td>\n      <td>0.44</td>\n      <td>0.13</td>\n      <td>1.02</td>\n      <td>0.60</td>\n      <td>0.10</td>\n    </tr>\n    <tr>\n      <th>Naftisol</th>\n      <td>12.00</td>\n      <td>27.17</td>\n      <td>19.62</td>\n      <td>54.33</td>\n      <td>1.18</td>\n      <td>9.0</td>\n      <td>27.0</td>\n      <td>20.0</td>\n      <td>52.51</td>\n      <td>1.0</td>\n      <td>6.72</td>\n      <td>1.50</td>\n      <td>14.18</td>\n      <td>8.13</td>\n      <td>1.22</td>\n      <td>0.49</td>\n      <td>0.11</td>\n      <td>1.04</td>\n      <td>0.60</td>\n      <td>0.09</td>\n    </tr>\n    <tr>\n      <th>Placebo</th>\n      <td>10.73</td>\n      <td>27.93</td>\n      <td>18.67</td>\n      <td>54.03</td>\n      <td>1.44</td>\n      <td>10.0</td>\n      <td>28.0</td>\n      <td>15.0</td>\n      <td>52.29</td>\n      <td>1.0</td>\n      <td>6.35</td>\n      <td>1.84</td>\n      <td>13.89</td>\n      <td>7.82</td>\n      <td>1.34</td>\n      <td>0.47</td>\n      <td>0.14</td>\n      <td>1.03</td>\n      <td>0.58</td>\n      <td>0.10</td>\n    </tr>\n    <tr>\n      <th>Propriva</th>\n      <td>10.57</td>\n      <td>27.08</td>\n      <td>17.08</td>\n      <td>52.39</td>\n      <td>1.00</td>\n      <td>8.0</td>\n      <td>26.0</td>\n      <td>15.0</td>\n      <td>50.91</td>\n      <td>1.0</td>\n      <td>7.19</td>\n      <td>1.69</td>\n      <td>13.57</td>\n      <td>6.57</td>\n      <td>1.09</td>\n      <td>0.58</td>\n      <td>0.14</td>\n      <td>1.09</td>\n      <td>0.53</td>\n      <td>0.09</td>\n    </tr>\n    <tr>\n      <th>Ramicane</th>\n      <td>10.68</td>\n      <td>19.68</td>\n      <td>21.43</td>\n      <td>40.22</td>\n      <td>0.55</td>\n      <td>9.0</td>\n      <td>19.0</td>\n      <td>20.0</td>\n      <td>40.67</td>\n      <td>0.0</td>\n      <td>5.95</td>\n      <td>3.24</td>\n      <td>14.28</td>\n      <td>4.85</td>\n      <td>0.69</td>\n      <td>0.39</td>\n      <td>0.21</td>\n      <td>0.95</td>\n      <td>0.32</td>\n      <td>0.05</td>\n    </tr>\n    <tr>\n      <th>Stelasyn</th>\n      <td>12.78</td>\n      <td>27.86</td>\n      <td>19.23</td>\n      <td>54.23</td>\n      <td>0.87</td>\n      <td>14.0</td>\n      <td>28.0</td>\n      <td>20.0</td>\n      <td>52.43</td>\n      <td>1.0</td>\n      <td>7.94</td>\n      <td>1.64</td>\n      <td>13.84</td>\n      <td>7.71</td>\n      <td>0.97</td>\n      <td>0.59</td>\n      <td>0.12</td>\n      <td>1.03</td>\n      <td>0.57</td>\n      <td>0.07</td>\n    </tr>\n    <tr>\n      <th>Zoniferol</th>\n      <td>12.60</td>\n      <td>27.69</td>\n      <td>19.37</td>\n      <td>53.24</td>\n      <td>1.23</td>\n      <td>12.5</td>\n      <td>28.0</td>\n      <td>15.0</td>\n      <td>51.82</td>\n      <td>1.0</td>\n      <td>5.79</td>\n      <td>1.42</td>\n      <td>14.38</td>\n      <td>6.97</td>\n      <td>1.25</td>\n      <td>0.43</td>\n      <td>0.11</td>\n      <td>1.07</td>\n      <td>0.52</td>\n      <td>0.09</td>\n    </tr>\n  </tbody>\n</table>\n</div>"
     },
     "metadata": {},
     "execution_count": 69
    }
   ],
   "source": [
    "# Assemble the resulting series into a single summary dataframe.\n",
    "drug_trx_stats = drug_trx_mean.join(drug_trx_median, on= 'Drug Regimen',lsuffix=\"_Mean\", rsuffix=\"_Median\")\n",
    "drug_trx_stats = drug_trx_stats.join(drug_trx_stdev, on= 'Drug Regimen',lsuffix=\"_Median\", rsuffix=\"_StDev\")\n",
    "drug_trx_stats = drug_trx_stats.join(drug_trx_sterr, on= 'Drug Regimen',lsuffix=\"_StDev\", rsuffix=\"_StErr\")\n",
    "drug_trx_stats = drug_trx_stats.rename(columns = {'Age_months_Mean': 'Mean Age in Months', 'Weight (g)_Mean': 'Mean Weight (g)','Timepoint_Mean': 'Mean Timepoint', 'Tumor Volume (mm3)_Mean': 'Mean Tumor Volume (mm3)','Metastatic Sites_Mean': 'Mean Metastatic Sites', 'Age_months_Median': 'Median Age in Months', 'Weight (g)_Median': 'Median Weight (g)','Timepoint_Median': 'Median Timepoint', 'Tumor Volume (mm3)_Median': 'Median Tumor Volume (mm3)','Metastatic Sites_Median': 'Median Metastatic Sites', 'Age_months_StDev': 'StDev Age in Months', 'Weight (g)_StDev': 'StDev Weight (g)','Timepoint_StDev': 'StDev Timepoint', 'Tumor Volume (mm3)_StDev': 'StDev Tumor Volume (mm3)','Metastatic Sites_StDev': 'StDev Metastatic Sites', 'Age_months_StErr': 'StErr Age in Months', 'Weight (g)_StErr': 'StErr Weight (g)','Timepoint_StErr': 'StErr Timepoint', 'Tumor Volume (mm3)_StErr': 'StErr Tumor Volume (mm3)','Metastatic Sites_StErr': 'StErr Metastatic Sites'})\n",
    "drug_trx_stats"
   ]
  },
  {
   "cell_type": "code",
   "execution_count": 41,
   "metadata": {},
   "outputs": [],
   "source": [
    "# Generate a summary statistics table of mean, median, variance, standard deviation, and SEM of the tumor volume for each regimen\n",
    "\n",
    "# Using the aggregation method, produce the same summary statistics in a single line\n"
   ]
  },
  {
   "cell_type": "markdown",
   "metadata": {},
   "source": [
    "## Bar and Pie Charts"
   ]
  },
  {
   "cell_type": "code",
   "execution_count": 42,
   "metadata": {},
   "outputs": [],
   "source": [
    "# Generate a bar plot showing the total number of measurements taken on each drug regimen using pandas.\n",
    "\n"
   ]
  },
  {
   "cell_type": "code",
   "execution_count": 43,
   "metadata": {},
   "outputs": [],
   "source": [
    "# Generate a bar plot showing the total number of measurements taken on each drug regimen using pyplot.\n",
    "\n"
   ]
  },
  {
   "cell_type": "code",
   "execution_count": 44,
   "metadata": {},
   "outputs": [],
   "source": [
    "# Generate a pie plot showing the distribution of female versus male mice using pandas\n",
    "\n"
   ]
  },
  {
   "cell_type": "code",
   "execution_count": 45,
   "metadata": {},
   "outputs": [],
   "source": [
    "# Generate a pie plot showing the distribution of female versus male mice using pyplot\n",
    "\n"
   ]
  },
  {
   "cell_type": "markdown",
   "metadata": {},
   "source": [
    "## Quartiles, Outliers and Boxplots"
   ]
  },
  {
   "cell_type": "code",
   "execution_count": 46,
   "metadata": {},
   "outputs": [],
   "source": [
    "# Calculate the final tumor volume of each mouse across four of the treatment regimens:  \n",
    "# Capomulin, Ramicane, Infubinol, and Ceftamin\n",
    "\n",
    "# Start by getting the last (greatest) timepoint for each mouse\n",
    "\n",
    "\n",
    "# Merge this group df with the original dataframe to get the tumor volume at the last timepoint\n"
   ]
  },
  {
   "cell_type": "code",
   "execution_count": 47,
   "metadata": {},
   "outputs": [],
   "source": [
    "# Put treatments into a list for for loop (and later for plot labels)\n",
    "\n",
    "\n",
    "# Create empty list to fill with tumor vol data (for plotting)\n",
    "\n",
    "\n",
    "# Calculate the IQR and quantitatively determine if there are any potential outliers. \n",
    "\n",
    "    \n",
    "    # Locate the rows which contain mice on each drug and get the tumor volumes\n",
    "    \n",
    "    \n",
    "    # add subset \n",
    "    \n",
    "    \n",
    "    # Determine outliers using upper and lower bounds\n",
    "    "
   ]
  },
  {
   "cell_type": "code",
   "execution_count": 48,
   "metadata": {},
   "outputs": [],
   "source": [
    "# Generate a box plot of the final tumor volume of each mouse across four regimens of interest\n"
   ]
  },
  {
   "cell_type": "markdown",
   "metadata": {},
   "source": [
    "## Line and Scatter Plots"
   ]
  },
  {
   "cell_type": "code",
   "execution_count": 49,
   "metadata": {},
   "outputs": [],
   "source": [
    "# Generate a line plot of tumor volume vs. time point for a mouse treated with Capomulin\n"
   ]
  },
  {
   "cell_type": "code",
   "execution_count": 50,
   "metadata": {},
   "outputs": [],
   "source": [
    "# Generate a scatter plot of average tumor volume vs. mouse weight for the Capomulin regimen\n"
   ]
  },
  {
   "cell_type": "markdown",
   "metadata": {},
   "source": [
    "## Correlation and Regression"
   ]
  },
  {
   "cell_type": "code",
   "execution_count": 51,
   "metadata": {},
   "outputs": [],
   "source": [
    "# Calculate the correlation coefficient and linear regression model \n",
    "# for mouse weight and average tumor volume for the Capomulin regimen\n"
   ]
  },
  {
   "cell_type": "code",
   "execution_count": null,
   "metadata": {},
   "outputs": [],
   "source": []
  }
 ],
 "metadata": {
  "anaconda-cloud": {},
  "kernelspec": {
   "display_name": "Python 3",
   "language": "python",
   "name": "python3"
  },
  "language_info": {
   "codemirror_mode": {
    "name": "ipython",
    "version": 3
   },
   "file_extension": ".py",
   "mimetype": "text/x-python",
   "name": "python",
   "nbconvert_exporter": "python",
   "pygments_lexer": "ipython3",
   "version": "3.7.9-final"
  }
 },
 "nbformat": 4,
 "nbformat_minor": 4
}